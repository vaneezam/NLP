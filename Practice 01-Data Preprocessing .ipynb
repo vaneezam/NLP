{
 "cells": [
  {
   "cell_type": "markdown",
   "metadata": {},
   "source": [
    "# Text Data Preprocessing"
   ]
  },
  {
   "cell_type": "markdown",
   "metadata": {},
   "source": [
    "## Import Libraries"
   ]
  },
  {
   "cell_type": "code",
   "execution_count": 15,
   "metadata": {},
   "outputs": [],
   "source": [
    "import pandas as pd\n",
    "import re\n",
    "from nltk.corpus import stopwords\n",
    "from nltk.stem import WordNetLemmatizer\n",
    "from nltk.tokenize import word_tokenize"
   ]
  },
  {
   "cell_type": "markdown",
   "metadata": {},
   "source": [
    "## Load Dataset"
   ]
  },
  {
   "cell_type": "code",
   "execution_count": 16,
   "metadata": {},
   "outputs": [
    {
     "data": {
      "text/html": [
       "<div>\n",
       "<style scoped>\n",
       "    .dataframe tbody tr th:only-of-type {\n",
       "        vertical-align: middle;\n",
       "    }\n",
       "\n",
       "    .dataframe tbody tr th {\n",
       "        vertical-align: top;\n",
       "    }\n",
       "\n",
       "    .dataframe thead th {\n",
       "        text-align: right;\n",
       "    }\n",
       "</style>\n",
       "<table border=\"1\" class=\"dataframe\">\n",
       "  <thead>\n",
       "    <tr style=\"text-align: right;\">\n",
       "      <th></th>\n",
       "      <th>label</th>\n",
       "      <th>tweets</th>\n",
       "      <th>location</th>\n",
       "    </tr>\n",
       "  </thead>\n",
       "  <tbody>\n",
       "    <tr>\n",
       "      <th>0</th>\n",
       "      <td>0</td>\n",
       "      <td>[Global News]As COVID-19 cases explode in Indi...</td>\n",
       "      <td>2</td>\n",
       "    </tr>\n",
       "    <tr>\n",
       "      <th>1</th>\n",
       "      <td>0</td>\n",
       "      <td>[Kashmir Reader]2030 fresh covid-19 cases, 15 ...</td>\n",
       "      <td>2</td>\n",
       "    </tr>\n",
       "    <tr>\n",
       "      <th>2</th>\n",
       "      <td>0</td>\n",
       "      <td>Covid Wave Bigger, Must Be Stopped From Hittin...</td>\n",
       "      <td>2</td>\n",
       "    </tr>\n",
       "    <tr>\n",
       "      <th>3</th>\n",
       "      <td>0</td>\n",
       "      <td>Special Mask Enforcement Drive held on Saturda...</td>\n",
       "      <td>30</td>\n",
       "    </tr>\n",
       "    <tr>\n",
       "      <th>4</th>\n",
       "      <td>0</td>\n",
       "      <td>Yesterday, I hosted stakeholders from Tafawa B...</td>\n",
       "      <td>36</td>\n",
       "    </tr>\n",
       "  </tbody>\n",
       "</table>\n",
       "</div>"
      ],
      "text/plain": [
       "   label                                             tweets location\n",
       "0      0  [Global News]As COVID-19 cases explode in Indi...        2\n",
       "1      0  [Kashmir Reader]2030 fresh covid-19 cases, 15 ...        2\n",
       "2      0  Covid Wave Bigger, Must Be Stopped From Hittin...        2\n",
       "3      0  Special Mask Enforcement Drive held on Saturda...       30\n",
       "4      0  Yesterday, I hosted stakeholders from Tafawa B...       36"
      ]
     },
     "execution_count": 16,
     "metadata": {},
     "output_type": "execute_result"
    }
   ],
   "source": [
    "data = pd.read_excel('traffic tweets final.xls',names=['label', 'tweets', 'location'])\n",
    "data.head()"
   ]
  },
  {
   "cell_type": "markdown",
   "metadata": {},
   "source": [
    "## Data Preprocessing"
   ]
  },
  {
   "cell_type": "code",
   "execution_count": 12,
   "metadata": {},
   "outputs": [
    {
     "data": {
      "text/html": [
       "<div>\n",
       "<style scoped>\n",
       "    .dataframe tbody tr th:only-of-type {\n",
       "        vertical-align: middle;\n",
       "    }\n",
       "\n",
       "    .dataframe tbody tr th {\n",
       "        vertical-align: top;\n",
       "    }\n",
       "\n",
       "    .dataframe thead th {\n",
       "        text-align: right;\n",
       "    }\n",
       "</style>\n",
       "<table border=\"1\" class=\"dataframe\">\n",
       "  <thead>\n",
       "    <tr style=\"text-align: right;\">\n",
       "      <th></th>\n",
       "      <th>label</th>\n",
       "      <th>tweets</th>\n",
       "      <th>location</th>\n",
       "      <th>tweets_final</th>\n",
       "    </tr>\n",
       "  </thead>\n",
       "  <tbody>\n",
       "    <tr>\n",
       "      <th>0</th>\n",
       "      <td>0</td>\n",
       "      <td>[Global News]As COVID-19 cases explode in Indi...</td>\n",
       "      <td>2</td>\n",
       "      <td>['global', 'newsas', 'covid', 'case', 'explode...</td>\n",
       "    </tr>\n",
       "    <tr>\n",
       "      <th>1</th>\n",
       "      <td>0</td>\n",
       "      <td>[Kashmir Reader]2030 fresh covid-19 cases, 15 ...</td>\n",
       "      <td>2</td>\n",
       "      <td>['kashmir', 'reader', 'fresh', 'covid', 'case'...</td>\n",
       "    </tr>\n",
       "    <tr>\n",
       "      <th>2</th>\n",
       "      <td>0</td>\n",
       "      <td>Covid Wave Bigger, Must Be Stopped From Hittin...</td>\n",
       "      <td>2</td>\n",
       "      <td>['covid', 'wave', 'bigger', 'must', 'stopped',...</td>\n",
       "    </tr>\n",
       "    <tr>\n",
       "      <th>3</th>\n",
       "      <td>0</td>\n",
       "      <td>Special Mask Enforcement Drive held on Saturda...</td>\n",
       "      <td>30</td>\n",
       "      <td>['special', 'mask', 'enforcement', 'drive', 'h...</td>\n",
       "    </tr>\n",
       "    <tr>\n",
       "      <th>4</th>\n",
       "      <td>0</td>\n",
       "      <td>Yesterday, I hosted stakeholders from Tafawa B...</td>\n",
       "      <td>36</td>\n",
       "      <td>['yesterday', 'hosted', 'stakeholder', 'tafawa...</td>\n",
       "    </tr>\n",
       "  </tbody>\n",
       "</table>\n",
       "</div>"
      ],
      "text/plain": [
       "   label                                             tweets location  \\\n",
       "0      0  [Global News]As COVID-19 cases explode in Indi...        2   \n",
       "1      0  [Kashmir Reader]2030 fresh covid-19 cases, 15 ...        2   \n",
       "2      0  Covid Wave Bigger, Must Be Stopped From Hittin...        2   \n",
       "3      0  Special Mask Enforcement Drive held on Saturda...       30   \n",
       "4      0  Yesterday, I hosted stakeholders from Tafawa B...       36   \n",
       "\n",
       "                                        tweets_final  \n",
       "0  ['global', 'newsas', 'covid', 'case', 'explode...  \n",
       "1  ['kashmir', 'reader', 'fresh', 'covid', 'case'...  \n",
       "2  ['covid', 'wave', 'bigger', 'must', 'stopped',...  \n",
       "3  ['special', 'mask', 'enforcement', 'drive', 'h...  \n",
       "4  ['yesterday', 'hosted', 'stakeholder', 'tafawa...  "
      ]
     },
     "execution_count": 12,
     "metadata": {},
     "output_type": "execute_result"
    }
   ],
   "source": [
    "for index,entry in enumerate(data['tweets']):\n",
    "    words=[] #for storing final text after lemmatization\n",
    "    #punctuations\n",
    "    X_temp = re.sub(r'[^\\w\\s]','',entry)  \n",
    "    #white spaces\n",
    "    X_temp = X_temp.strip()\n",
    "    #digits\n",
    "    X_temp = re.sub(r'[0-9]+', '', X_temp)\n",
    "    #lower\n",
    "    X_temp = X_temp.lower()\n",
    "    #tokenize\n",
    "    X_temp = word_tokenize(X_temp)\n",
    "    #stop word removal\n",
    "    X_temp = [word for word in X_temp if not word in stopwords.words()]\n",
    "    #lemmatization\n",
    "    lemmatizer=WordNetLemmatizer()\n",
    "    for j in X_temp:\n",
    "        word_final=lemmatizer.lemmatize(j)\n",
    "        words.append(word_final)\n",
    "        data.loc[index,'tweets_final'] = str(words)\n",
    "data.head()"
   ]
  },
  {
   "cell_type": "code",
   "execution_count": null,
   "metadata": {},
   "outputs": [],
   "source": []
  }
 ],
 "metadata": {
  "kernelspec": {
   "display_name": "Python 3",
   "language": "python",
   "name": "python3"
  },
  "language_info": {
   "codemirror_mode": {
    "name": "ipython",
    "version": 3
   },
   "file_extension": ".py",
   "mimetype": "text/x-python",
   "name": "python",
   "nbconvert_exporter": "python",
   "pygments_lexer": "ipython3",
   "version": "3.8.3"
  }
 },
 "nbformat": 4,
 "nbformat_minor": 4
}
